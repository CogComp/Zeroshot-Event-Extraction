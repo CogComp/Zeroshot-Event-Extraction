{
 "cells": [
  {
   "cell_type": "code",
   "execution_count": 3,
   "metadata": {},
   "outputs": [],
   "source": [
    "# Loading Elior's model\n",
    "import os\n",
    "cuda = '0'\n",
    "os.environ['CUDA_VISIBLE_DEVICES'] = cuda\n",
    "\n",
    "import torch\n",
    "from transformers import AutoTokenizer, AutoModelForSequenceClassification, AutoModelForQuestionAnswering\n",
    "\n",
    "root_dir = '/shared/lyuqing/probing_for_event/'\n",
    "os.chdir(root_dir)\n"
   ]
  },
  {
   "cell_type": "code",
   "execution_count": 4,
   "metadata": {},
   "outputs": [],
   "source": [
    "model_path = 'output_model_dir/MNLI_s_roberta'\n",
    "te_model = AutoModelForSequenceClassification.from_pretrained(model_path).to('cuda:0')\n",
    "tokenizer = AutoTokenizer.from_pretrained(model_path)"
   ]
  },
  {
   "cell_type": "code",
   "execution_count": 3,
   "metadata": {},
   "outputs": [],
   "source": [
    "model_path = 'output_model_dir/qamr_bert'\n",
    "qa_model = AutoModelForQuestionAnswering.from_pretrained(model_path).to('cuda:0')\n",
    "tokenizer = AutoTokenizer.from_pretrained(model_path)"
   ]
  },
  {
   "cell_type": "code",
   "execution_count": 5,
   "metadata": {},
   "outputs": [
    {
     "name": "stdout",
     "output_type": "stream",
     "text": [
      "['[CLS]', 'who', 'is', 'born', '?', '[SEP]', '耶', '稣', '出', '生', '于', '公', '元', '1', '世', '纪', '。', '[SEP]']\n",
      "tensor(0, device='cuda:0') tensor(1, device='cuda:0')\n",
      "Question: Who is born?\n",
      "Answer: [CLS]\n",
      "\n",
      "['[CLS]', 'when', 'is', 'someone', 'born', '?', '[SEP]', '耶', '稣', '出', '生', '于', '公', '元', '1', '世', '纪', '。', '[SEP]']\n",
      "tensor(12, device='cuda:0') tensor(17, device='cuda:0')\n",
      "Question: When is someone born?\n",
      "Answer: 公 元 1 世 纪\n",
      "\n"
     ]
    }
   ],
   "source": [
    "text = r\"\"\"\n",
    "耶稣出生于公元1世纪。\n",
    "\"\"\"\n",
    "\n",
    "questions = [\n",
    "    \"Who is born?\",\n",
    "    \"When is someone born?\"\n",
    "]\n",
    "\n",
    "for question in questions:\n",
    "    inputs = tokenizer.encode_plus(question, text, add_special_tokens=True, return_tensors=\"pt\").to('cuda:0')\n",
    "    input_ids = inputs[\"input_ids\"].tolist()[0]\n",
    "\n",
    "    text_tokens = tokenizer.convert_ids_to_tokens(input_ids)\n",
    "    answer_start_scores, answer_end_scores = qa_model(**inputs)\n",
    "\n",
    "    answer_start = torch.argmax(\n",
    "        answer_start_scores\n",
    "    )  # Get the most likely beginning of answer with the argmax of the score\n",
    "    answer_end = torch.argmax(answer_end_scores) + 1  # Get the most likely end of answer with the argmax of the score\n",
    "    \n",
    "    print(text_tokens)\n",
    "    print(answer_start, answer_end)\n",
    "    answer = tokenizer.convert_tokens_to_string(tokenizer.convert_ids_to_tokens(input_ids[answer_start:answer_end]))\n",
    "\n",
    "    print(f\"Question: {question}\")\n",
    "    print(f\"Answer: {answer}\\n\")"
   ]
  },
  {
   "cell_type": "code",
   "execution_count": null,
   "metadata": {
    "code_folding": []
   },
   "outputs": [],
   "source": [
    "def answer_ex_original(question, context):\n",
    "    \"\"\"Answers an extractive question. (without mapping gold tokens to bert tokens)\"\"\"\n",
    "    \n",
    "    if context and len(context) > 1:  # Capitalize the first letter of the context\n",
    "        context = context[0].upper() + context[1:]\n",
    "    question = question[0].upper() + question[1:]\n",
    "    if question[-1] != '?':\n",
    "        question = question + '?'\n",
    "    \n",
    "    input_tensor = ex_tokenizer(question, context, add_special_tokens=True, return_tensors=\"pt\").to(\n",
    "        'cuda:0')\n",
    "    input_ids = input_tensor[\"input_ids\"].tolist()[0]\n",
    "    text_tokens = ex_tokenizer.convert_ids_to_tokens(input_ids)\n",
    "    question_end_s = text_tokens.index('[SEP]') \n",
    "\n",
    "\n",
    "#     context_start = question_end_s + 2 # the starting token of the context\n",
    "    context_start = question_end_s + 1 # the starting token of the context\n",
    "    \n",
    "    context_end = len(text_tokens) - 1 # the ending token of the context\n",
    "    context_tokens = text_tokens[context_start:context_end]\n",
    "    print(type(input_tensor))\n",
    "    print(input_tensor)\n",
    "    outputs = ex_qa_model(**input_tensor)\n",
    "    answer_start_scores = outputs[0]\n",
    "    answer_end_scores = outputs[1]\n",
    "    start_probs = torch.softmax(answer_start_scores, dim=1).tolist()[0]\n",
    "    end_probs = torch.softmax(answer_end_scores, dim=1).tolist()[0]\n",
    "    print(start_probs)\n",
    "    print(end_probs)\n",
    "\n",
    "    answer_start = torch.argmax(answer_start_scores).tolist()  # Get the most likely beginning of answer with the argmax of the score\n",
    "    answer_end = torch.argmax(answer_end_scores).tolist() + 1  # Get the most likely end of answer with the argmax of the score\n",
    "    confidence = np.mean([start_probs[answer_start], end_probs[answer_end-1]])\n",
    "    answer = ex_tokenizer.convert_tokens_to_string(ex_tokenizer.convert_ids_to_tokens(input_ids[answer_start:answer_end]))\n",
    "    span = (answer_start, answer_end)\n",
    "    print(span, confidence)\n",
    "    if span == (0,1): # answer = '<s>'\n",
    "        span = None\n",
    "        answer = None\n",
    "    return {'span':span,\n",
    "            'answer':answer, \n",
    "            'confidence':confidence,\n",
    "            'bert_tokens':text_tokens\n",
    "           }"
   ]
  },
  {
   "cell_type": "code",
   "execution_count": null,
   "metadata": {},
   "outputs": [],
   "source": [
    "model_path = \"output_model_dir/elior_bert-lc_mnli/\"\n",
    "te_model = AutoModelForSequenceClassification.from_pretrained(model_path, num_labels=3).to('cuda:0')\n",
    "tokenizer = AutoTokenizer.from_pretrained(model_path)"
   ]
  },
  {
   "cell_type": "code",
   "execution_count": 3,
   "metadata": {
    "code_folding": [
     0
    ]
   },
   "outputs": [],
   "source": [
    "def entailment(premise, hypothesis, premise_upper=True):\n",
    "    \"\"\"Compute the probability that the premise entails the hypothesis.\"\"\"\n",
    "\n",
    "    x = tokenizer.encode(premise, hypothesis, return_tensors='pt', truncation='only_first', max_length=tokenizer.max_len).to('cuda:'+str(0))\n",
    "    logits = te_model(x)[0]\n",
    "\n",
    "    entail_contradiction_logits = logits\n",
    "    entail_idx = 2\n",
    "    probs = entail_contradiction_logits.softmax(1)\n",
    "    print(probs)\n",
    "\n",
    "    entail_prob = float(probs[:, entail_idx])\n",
    "\n",
    "    return entail_prob"
   ]
  },
  {
   "cell_type": "code",
   "execution_count": 6,
   "metadata": {},
   "outputs": [
    {
     "name": "stdout",
     "output_type": "stream",
     "text": [
      "tensor([[0.0061, 0.6793, 0.3145]], device='cuda:0', grad_fn=<SoftmaxBackward>)\n"
     ]
    },
    {
     "data": {
      "text/plain": [
       "0.3145211935043335"
      ]
     },
     "execution_count": 6,
     "metadata": {},
     "output_type": "execute_result"
    }
   ],
   "source": [
    "premise = \"I can run\"\n",
    "hypothesis = \"I can run\"\n",
    "entailment(premise, hypothesis)"
   ]
  },
  {
   "cell_type": "code",
   "execution_count": null,
   "metadata": {},
   "outputs": [],
   "source": []
  }
 ],
 "metadata": {
  "kernelspec": {
   "display_name": "events",
   "language": "python",
   "name": "events"
  },
  "language_info": {
   "codemirror_mode": {
    "name": "ipython",
    "version": 3
   },
   "file_extension": ".py",
   "mimetype": "text/x-python",
   "name": "python",
   "nbconvert_exporter": "python",
   "pygments_lexer": "ipython3",
   "version": "3.7.7"
  }
 },
 "nbformat": 4,
 "nbformat_minor": 4
}
