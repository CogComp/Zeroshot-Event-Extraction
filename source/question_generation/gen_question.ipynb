{
 "cells": [
  {
   "cell_type": "code",
   "execution_count": 2,
   "metadata": {},
   "outputs": [
    {
     "name": "stderr",
     "output_type": "stream",
     "text": [
      "Some weights of BartForConditionalGeneration were not initialized from the model checkpoint at facebook/bart-large and are newly initialized: ['final_logits_bias']\n",
      "You should probably TRAIN this model on a down-stream task to be able to use it for predictions and inference.\n"
     ]
    }
   ],
   "source": [
    "import os\n",
    "\n",
    "cuda = 7\n",
    "os.environ['CUDA_VISIBLE_DEVICES'] = str(cuda)\n",
    "\n",
    "from model import QuestionGenerationModel\n",
    "\n",
    "root_dir = \"/shared/lyuqing/probing_for_event\"\n",
    "os.chdir(root_dir)\n",
    "\n",
    "model_path = \"output_model_dir/question_generation_model/model.tar.gz\"\n",
    "model = QuestionGenerationModel(model_path, cuda_device = 0)"
   ]
  },
  {
   "cell_type": "code",
   "execution_count": 4,
   "metadata": {},
   "outputs": [
    {
     "name": "stderr",
     "output_type": "stream",
     "text": [
      "Generating questions: 100%|██████████| 1/1 [00:00<00:00,  1.19it/s]"
     ]
    },
    {
     "name": "stdout",
     "output_type": "stream",
     "text": [
      "['Who filed suit against universal music, the parent company of motown records?']\n"
     ]
    },
    {
     "name": "stderr",
     "output_type": "stream",
     "text": [
      "\n"
     ]
    }
   ],
   "source": [
    "# \"The superjumbo Airbus A380\"\n",
    "context = \"michael jackson filed suit against universal music , the parent company of motown records\"\n",
    "answer = \"michael jackson\"\n",
    "start = context.index(answer)\n",
    "end = start + len(answer)\n",
    "question = model.generate_all([(context, start, end)])\n",
    "print(question)"
   ]
  },
  {
   "cell_type": "code",
   "execution_count": null,
   "metadata": {},
   "outputs": [],
   "source": []
  }
 ],
 "metadata": {
  "kernelspec": {
   "display_name": "qgen",
   "language": "python",
   "name": "qgen"
  },
  "language_info": {
   "codemirror_mode": {
    "name": "ipython",
    "version": 3
   },
   "file_extension": ".py",
   "mimetype": "text/x-python",
   "name": "python",
   "nbconvert_exporter": "python",
   "pygments_lexer": "ipython3",
   "version": "3.6.13"
  }
 },
 "nbformat": 4,
 "nbformat_minor": 4
}
